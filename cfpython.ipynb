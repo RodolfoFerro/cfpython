{
 "cells": [
  {
   "cell_type": "markdown",
   "metadata": {
    "slideshow": {
     "slide_type": "slide"
    }
   },
   "source": [
    "<div align=\"middle\" style=\"padding-top: 50px;\">\n",
    "<img width=\"100%\" src=\"./assets/__init__.png\"/>\n",
    "</div>"
   ]
  },
  {
   "cell_type": "markdown",
   "metadata": {
    "slideshow": {
     "slide_type": "subslide"
    }
   },
   "source": [
    "## El rol de Python en la ciencia\n",
    "\n",
    "* ¿Por qué Python en la ciencia?\n",
    "* Curso de profesional de Python 3\n",
    "* Librerías útiles\n",
    "* Ejemplos sencillos\n",
    "    * Decidiendo si tomo el Curso profesional de Python 3\n",
    "    * Detectando SPAM en nuestro correo\n",
    "    * Simulación física usando PyGame\n",
    "    * Detección de rasgos faciales"
   ]
  },
  {
   "cell_type": "markdown",
   "metadata": {
    "slideshow": {
     "slide_type": "slide"
    }
   },
   "source": [
    "# ¿Por qué Python en la ciencia?\n",
    "\n",
    "* Python resulta ser un lenguaje simple, pero poderoso. Con pocas líneas de código se puede hacer muchísimo.\n",
    "* La comunidad de desarrollo del lenguaje es muy grande y multidisciplinaria.\n",
    "* Existe una enorme cantidad de paquetes (libs) de diferentes áreas de la ciencia."
   ]
  },
  {
   "cell_type": "code",
   "execution_count": null,
   "metadata": {
    "ExecuteTime": {
     "end_time": "2017-10-18T06:45:09.582501Z",
     "start_time": "2017-10-18T06:45:09.573506Z"
    },
    "scrolled": true,
    "slideshow": {
     "slide_type": "subslide"
    }
   },
   "outputs": [],
   "source": [
    "import IPython\n",
    "url = 'https://octoverse.github.com/'\n",
    "iframe = '<center><h2>De acuerdo a GitHub...</h2><br/><iframe src=' + url + ' width=100% height=500></iframe></center>'\n",
    "IPython.display.HTML(iframe)"
   ]
  },
  {
   "cell_type": "markdown",
   "metadata": {
    "slideshow": {
     "slide_type": "slide"
    }
   },
   "source": [
    "<center>\n",
    "<h1>Curso profesional de Python 3<span style=\"color:teal\"><sub><sub>por Código Facilito</sub></sub></span></h1>\n",
    "<br><br><br>\n",
    "<img src=\"./assets/cody.jpg\" width=\"30%\">\n",
    "</center>"
   ]
  },
  {
   "cell_type": "markdown",
   "metadata": {
    "slideshow": {
     "slide_type": "slide"
    }
   },
   "source": [
    "\n",
    "<div align=\"middle\" style=\"padding-top: 50px;\">\n",
    "<img width=\"100%\" src=\"./assets/stack.png\"/>\n",
    "</div>"
   ]
  },
  {
   "cell_type": "markdown",
   "metadata": {
    "slideshow": {
     "slide_type": "slide"
    }
   },
   "source": [
    "\n",
    "<div align=\"middle\" style=\"padding-top: 50px;\">\n",
    "<img width=\"100%\" src=\"./assets/Modelos3.png\"/>\n",
    "</div>"
   ]
  },
  {
   "cell_type": "markdown",
   "metadata": {
    "slideshow": {
     "slide_type": "subslide"
    }
   },
   "source": [
    "<div align=\"middle\" style=\"padding-top: 50px;\">\n",
    "<img width=\"100%\" src=\"./assets/perceptron.png\"/>\n",
    "</div>"
   ]
  },
  {
   "cell_type": "code",
   "execution_count": null,
   "metadata": {
    "ExecuteTime": {
     "end_time": "2017-10-18T07:11:42.196239Z",
     "start_time": "2017-10-18T07:11:42.184691Z"
    },
    "collapsed": true,
    "slideshow": {
     "slide_type": "subslide"
    }
   },
   "outputs": [],
   "source": [
    "import numpy as np\n",
    "\n",
    "class Perceptron_CursoPython3():\n",
    "    def __init__(self, entradas, pesos):\n",
    "        \"\"\"Constructor de la clase.\"\"\"\n",
    "        self.n = len(entradas)\n",
    "        self.entradas = np.array(entradas)\n",
    "        self.pesos = np.array(pesos)\n",
    "    \n",
    "    def voy_no_voy(self, umbral):\n",
    "        \"\"\"Calcula el output buscado.\"\"\"\n",
    "        si_no = (self.entradas @ self.pesos) >= umbral\n",
    "        if si_no: return \"Sí lo tomo.\"\n",
    "        else: return \"No lo tomo.\""
   ]
  },
  {
   "cell_type": "code",
   "execution_count": null,
   "metadata": {
    "ExecuteTime": {
     "end_time": "2017-10-18T07:12:31.909047Z",
     "start_time": "2017-10-18T07:12:31.901658Z"
    },
    "slideshow": {
     "slide_type": "-"
    }
   },
   "outputs": [],
   "source": [
    "entradas = [1, 0, 1, 1]\n",
    "pesos = [2, 5, 3, 1]\n",
    "\n",
    "dev = Perceptron_CursoPython3(entradas, pesos)\n",
    "dev.voy_no_voy(9)"
   ]
  },
  {
   "cell_type": "code",
   "execution_count": null,
   "metadata": {
    "ExecuteTime": {
     "end_time": "2017-10-18T06:23:45.261925Z",
     "start_time": "2017-10-18T06:23:45.219960Z"
    },
    "collapsed": true,
    "slideshow": {
     "slide_type": "slide"
    }
   },
   "outputs": [],
   "source": [
    "from tqdm import tqdm_notebook as tqdm\n",
    "import numpy as np\n",
    "\n",
    "class SigmoidNeuron():\n",
    "    def __init__(self, n):\n",
    "        np.random.seed(123)\n",
    "        self.synaptic_weights = 2 * np.random.random((n, 1)) - 1\n",
    "\n",
    "    def __sigmoid(self, x):\n",
    "        return 1 / (1 + np.exp(-x))\n",
    "\n",
    "    def __sigmoid_derivative(self, x):\n",
    "        return x * (1 - x)\n",
    "\n",
    "    def train(self, training_inputs, training_output, iterations):\n",
    "        for iteration in tqdm(range(iterations)):\n",
    "            output = self.predict(training_inputs)\n",
    "            error = training_output.reshape((len(training_inputs), 1)) - output\n",
    "            adjustment = np.dot(training_inputs.T, error *\n",
    "                                self.__sigmoid_derivative(output))\n",
    "            self.synaptic_weights += adjustment\n",
    "\n",
    "    def predict(self, inputs):\n",
    "        return self.__sigmoid(np.dot(inputs, self.synaptic_weights))\n"
   ]
  },
  {
   "cell_type": "code",
   "execution_count": null,
   "metadata": {
    "ExecuteTime": {
     "end_time": "2017-10-18T06:24:21.780604Z",
     "start_time": "2017-10-18T06:24:21.715571Z"
    },
    "slideshow": {
     "slide_type": "subslide"
    }
   },
   "outputs": [],
   "source": [
    "# Initialize Sigmoid Neuron:\n",
    "sigmoid = SigmoidNeuron(2)\n",
    "print(\"Inicialización de pesos aleatorios:\")\n",
    "print(sigmoid.synaptic_weights)\n",
    "\n",
    "# Datos de entrenamiento:\n",
    "training_inputs = np.array([[1, 0], [0, 0], [0, 1]])\n",
    "training_output = np.array([1, 0, 1]).T.reshape((3, 1))\n",
    "\n",
    "# Entrenamos la neurona (n iteraciones):\n",
    "sigmoid.train(training_inputs, training_output, 10)\n",
    "print(\"Nuevos pesos sinápticos luego del entrenamiento: \")\n",
    "print(sigmoid.synaptic_weights)\n",
    "\n",
    "# Predecimos para probar la red:\n",
    "print(\"Predicción para [1, 1]: \")\n",
    "print(sigmoid.predict(np.array([1, 1]))) "
   ]
  },
  {
   "cell_type": "markdown",
   "metadata": {
    "slideshow": {
     "slide_type": "slide"
    }
   },
   "source": [
    "<div align=\"middle\" style=\"padding-top: 50px;\">\n",
    "<img width=\"100%\" src=\"./assets/mail.png\"/>\n",
    "</div>"
   ]
  },
  {
   "cell_type": "code",
   "execution_count": null,
   "metadata": {
    "ExecuteTime": {
     "end_time": "2017-10-01T01:49:20.427341Z",
     "start_time": "2017-10-01T01:49:20.039772Z"
    },
    "collapsed": true,
    "slideshow": {
     "slide_type": "subslide"
    }
   },
   "outputs": [],
   "source": [
    "from textblob.classifiers import NaiveBayesClassifier\n",
    "\n",
    "entrenamiento = [\n",
    "    # SPAM:\n",
    "    (\"Te ofrecemos una tarjeta de crédito del Banco X.\", \"SPAM\"),\n",
    "    (\"¡Anímate a comprar el último modelo de nuestros teléfonos!.\", \"SPAM\"),\n",
    "    (\"Aviso de demanda. Soy tu primo lejano...\", \"SPAM\"),\n",
    "    (\"¡Acabas de ganar 150,000 pesos!\", \"SPAM\"),\n",
    "    (\"¡No pierdas la oportunidad de ganar un automóvil!\", \"SPAM\"),\n",
    "    # NOT SPAM:\n",
    "    (\"Tarea 3. Redes computacionales.\", \"NOT SPAM\"),\n",
    "    (\"Invitación al Seminario de Deep Learning el próximo martes.\", \"NOT SPAM\"),\n",
    "    (\"Calendario: DevNight 7:30 pm en León.\", \"NOT SPAM\"),\n",
    "    (\"Recordatorio del taller básico de Arduino.\", \"NOT SPAM\"),\n",
    "    (\"Dev.to() -> 7 must read posts from last week.\", \"NOT SPAM\")\n",
    "]  \n",
    "\n",
    "# Creamos modelo de clasificación:\n",
    "dev_Bayes = NaiveBayesClassifier(entrenamiento)"
   ]
  },
  {
   "cell_type": "code",
   "execution_count": null,
   "metadata": {
    "ExecuteTime": {
     "end_time": "2017-10-01T01:49:44.245437Z",
     "start_time": "2017-10-01T01:49:44.236112Z"
    },
    "slideshow": {
     "slide_type": "-"
    }
   },
   "outputs": [],
   "source": [
    "dev_Bayes.classify(\"Adquiere una membresía a nuestro club premier.\")\n",
    "#dev_Bayes.classify(\"Nueva tarea sobre análisis matemático.\")"
   ]
  },
  {
   "cell_type": "markdown",
   "metadata": {
    "collapsed": true,
    "slideshow": {
     "slide_type": "slide"
    }
   },
   "source": [
    "<div align=\"middle\" style=\"padding-top: 50px;\">\n",
    "<img width=\"100%\" src=\"./assets/thanks.png\"/>\n",
    "</div>"
   ]
  },
  {
   "cell_type": "markdown",
   "metadata": {
    "slideshow": {
     "slide_type": "subslide"
    }
   },
   "source": [
    "#### Cargar estilo de slides"
   ]
  },
  {
   "cell_type": "code",
   "execution_count": 1,
   "metadata": {
    "ExecuteTime": {
     "end_time": "2017-10-18T07:22:30.856647Z",
     "start_time": "2017-10-18T07:22:30.838967Z"
    },
    "slideshow": {
     "slide_type": "-"
    }
   },
   "outputs": [
    {
     "data": {
      "text/html": [
       "<style>\n",
       "/*\n",
       "\n",
       "    Name:       Base16 Summerfruit Light\n",
       "    Author:     Christopher Corley (http://cscorley.github.io/)\n",
       "\n",
       "    CodeMirror template adapted for IPython Notebook by Nikhil Sonnad (https://github.com/nsonnad/base16-ipython-notebook)\n",
       "    CodeMirror template by Jan T. Sott (https://github.com/idleberg/base16-chrome-devtools)\n",
       "    Original Base16 color scheme by Chris Kempson (https://github.com/chriskempson/base16)\n",
       "\n",
       "*/\n",
       "\n",
       "/* Uncomment to use a custom font\n",
       "div#notebook, div.CodeMirror, div.output_area pre, div.output_wrapper, div.prompt {\n",
       "  font-family: 'Custom Font Name', monospace !important;\n",
       "}\n",
       "*/\n",
       "\n",
       "/* GLOBALS */\n",
       "body {background-color: #FFFFFF;font-family: Fira Sans, Menlo, sans;}\n",
       "a {color: #3777E6;}\n",
       ".text_cell_render h1 {color: #4271ae;}\n",
       ".text_cell_render h2 {color: #3e999f;}\n",
       ".text_cell_render h3 {color: #3e999f;}\n",
       ".text_cell_render h4 {color: #3e999f;}\n",
       "\n",
       "/* INTRO PAGE */\n",
       ".toolbar_info, .list-container {color: #202020;}\n",
       "\n",
       "/* NOTEBOOK */\n",
       "\n",
       "/* comment out this line to bring the toolbar back */\n",
       "/*div#maintoolbar, div#header {display: none !important;}*/\n",
       "\n",
       "div#notebook {border-top: none;}\n",
       "\n",
       "div.input_prompt {color: #AD00A1;}\n",
       "div.output_prompt {color: #cc6633;}\n",
       "div.input_area {\n",
       "  border-radius: 0px;\n",
       "  border: 1px solid #D0D0D0;\n",
       "}\n",
       "div.output_area pre {font-weight: normal; color: #303030;}\n",
       "div.output_subarea {font-weight: normal; color: #303030;}\n",
       "\n",
       ".rendered_html table, .rendered_html th, .rendered_html tr, .rendered_html td {\n",
       "  border: 1px  #505050 solid;\n",
       "  color: #505050;\n",
       "}\n",
       "div.output_html { font-family: sans-serif; }\n",
       "table.dataframe tr {border: 1px #303030;}\n",
       "\n",
       "div.cell.selected {border-radius: 0px;}\n",
       "div.cell.edit_mode {border-radius: 0px; border: thin solid #cc6633;}\n",
       "div.text_cell_render, div.output_html {color: #303030;}\n",
       "\n",
       "span.ansiblack {color: #202020;}\n",
       "span.ansiblue {color: #1faaaa;}\n",
       "span.ansigray {color: #B0B0B0;}\n",
       "span.ansigreen {color: #00C918;}\n",
       "span.ansipurple {color: #AD00A1;}\n",
       "span.ansired {color: #FF0086;}\n",
       "span.ansiyellow {color: #ABA800;}\n",
       "\n",
       "div.output_stderr {background-color: #FF0086;}\n",
       "div.output_stderr pre {color: #E0E0E0;}\n",
       "\n",
       ".cm-s-ipython.CodeMirror {background: #FFFFFF; color: #202020;}\n",
       ".cm-s-ipython div.CodeMirror-selected {background: #E0E0E0 !important;}\n",
       ".cm-s-ipython .CodeMirror-gutters {background: #FFFFFF; border-right: 0px;}\n",
       ".cm-s-ipython .CodeMirror-linenumber {color: #B0B0B0;}\n",
       ".cm-s-ipython .CodeMirror-cursor {border-left: 1px solid #505050 !important;}\n",
       "\n",
       ".cm-s-ipython span.cm-comment {color: #cc6633;}\n",
       ".cm-s-ipython span.cm-atom {color: #AD00A1;}\n",
       ".cm-s-ipython span.cm-number {color: #AD00A1;}\n",
       "\n",
       ".cm-s-ipython span.cm-property, .cm-s-ipython span.cm-attribute {color: #00C918;}\n",
       ".cm-s-ipython span.cm-keyword {color: #FF0086;}\n",
       ".cm-s-ipython span.cm-string {color: #ABA800;}\n",
       ".cm-s-ipython span.cm-operator {color: #cc6633;}\n",
       ".cm-s-ipython span.cm-builtin {color: #AD00A1;}\n",
       "\n",
       ".cm-s-ipython span.cm-variable {color: #00C918;}\n",
       ".cm-s-ipython span.cm-variable-2 {color: #3777E6;}\n",
       ".cm-s-ipython span.cm-def {color: #FD8900;}\n",
       ".cm-s-ipython span.cm-error {background: #FF0086; color: #505050;}\n",
       ".cm-s-ipython span.cm-bracket {color: #303030;}\n",
       ".cm-s-ipython span.cm-tag {color: #FF0086;}\n",
       ".cm-s-ipython span.cm-link {color: #AD00A1;}\n",
       "\n",
       ".cm-s-ipython .CodeMirror-matchingbracket { text-decoration: underline; color: #202020 !important;}\n"
      ],
      "text/plain": [
       "<IPython.core.display.HTML object>"
      ]
     },
     "execution_count": 1,
     "metadata": {},
     "output_type": "execute_result"
    }
   ],
   "source": [
    "from IPython.core.display import HTML\n",
    "def css_styling():\n",
    "    style = open(\"./assets/mystyle.css\", \"r\").read()\n",
    "    return HTML(style)\n",
    "css_styling()"
   ]
  },
  {
   "cell_type": "code",
   "execution_count": null,
   "metadata": {
    "collapsed": true
   },
   "outputs": [],
   "source": []
  }
 ],
 "metadata": {
  "anaconda-cloud": {},
  "celltoolbar": "Slideshow",
  "kernelspec": {
   "display_name": "Python [conda root]",
   "language": "python",
   "name": "conda-root-py"
  },
  "language_info": {
   "codemirror_mode": {
    "name": "ipython",
    "version": 3
   },
   "file_extension": ".py",
   "mimetype": "text/x-python",
   "name": "python",
   "nbconvert_exporter": "python",
   "pygments_lexer": "ipython3",
   "version": "3.6.1"
  },
  "toc": {
   "colors": {
    "hover_highlight": "#DAA520",
    "navigate_num": "#000000",
    "navigate_text": "#333333",
    "running_highlight": "#FF0000",
    "selected_highlight": "#FFD700",
    "sidebar_border": "#EEEEEE",
    "wrapper_background": "#FFFFFF"
   },
   "moveMenuLeft": true,
   "nav_menu": {
    "height": "12px",
    "width": "252px"
   },
   "navigate_menu": true,
   "number_sections": false,
   "sideBar": true,
   "threshold": 4,
   "toc_cell": false,
   "toc_section_display": "block",
   "toc_window_display": false,
   "widenNotebook": false
  }
 },
 "nbformat": 4,
 "nbformat_minor": 2
}
